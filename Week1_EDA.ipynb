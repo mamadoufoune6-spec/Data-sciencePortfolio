{
  "nbformat": 4,
  "nbformat_minor": 0,
  "metadata": {
    "colab": {
      "provenance": [],
      "authorship_tag": "ABX9TyOqmsBxBM8K/KCaLLOzP9BW",
      "include_colab_link": true
    },
    "kernelspec": {
      "name": "python3",
      "display_name": "Python 3"
    },
    "language_info": {
      "name": "python"
    }
  },
  "cells": [
    {
      "cell_type": "markdown",
      "metadata": {
        "id": "view-in-github",
        "colab_type": "text"
      },
      "source": [
        "<a href=\"https://colab.research.google.com/github/mamadoufoune6-spec/Data-sciencePortfolio/blob/main/Week1_EDA.ipynb\" target=\"_parent\"><img src=\"https://colab.research.google.com/assets/colab-badge.svg\" alt=\"Open In Colab\"/></a>"
      ]
    },
    {
      "cell_type": "code",
      "execution_count": null,
      "metadata": {
        "id": "JMJ8qsyDjFmV"
      },
      "outputs": [],
      "source": [
        "hello github"
      ]
    },
    {
      "cell_type": "code",
      "source": [
        "import numpy as np\n",
        "#vectorized operations\n",
        "a = np.array([1,2,3])\n",
        "b = np.array ([4,5,6])\n",
        "#arithmetic\n",
        "print(a+b)\n",
        "print(a-b)\n",
        "print(a*b)\n",
        "print(a/b)\n",
        "#universal functions\n",
        "print(np.sqrt(a))\n",
        "print(np.exp(a))\n",
        "print(np.cos(a))\n",
        "#task find mean, median and std of a\n",
        "print(np.mean(a))\n",
        "print(np.median(a))\n",
        "print(np.std(a))\n"
      ],
      "metadata": {
        "colab": {
          "base_uri": "https://localhost:8080/"
        },
        "id": "qJz2P-5ykA56",
        "outputId": "a28ad8de-78c1-420e-f405-9df43f064852"
      },
      "execution_count": null,
      "outputs": [
        {
          "output_type": "stream",
          "name": "stdout",
          "text": [
            "[5 7 9]\n",
            "[-3 -3 -3]\n",
            "[ 4 10 18]\n",
            "[0.25 0.4  0.5 ]\n",
            "[1.         1.41421356 1.73205081]\n",
            "[ 2.71828183  7.3890561  20.08553692]\n",
            "[ 0.54030231 -0.41614684 -0.9899925 ]\n",
            "2.0\n",
            "2.0\n",
            "0.816496580927726\n"
          ]
        }
      ]
    },
    {
      "cell_type": "code",
      "source": [
        "A = np.array([[1,2],[3,4]])\n",
        "B = np.array([[5,6],[7,8]])\n",
        "\n",
        "#matrix multiplication\n",
        "C = np.dot(A,B)\n",
        "print(C)\n",
        "#transpose\n",
        "print(A.T)\n",
        "#inverse square matrix\n",
        "print(np.linalg.inv(A))"
      ],
      "metadata": {
        "colab": {
          "base_uri": "https://localhost:8080/"
        },
        "id": "dXbbI4S4lxFL",
        "outputId": "6f35a7ff-27f3-42a9-b6ec-809a8a5a5e11"
      },
      "execution_count": null,
      "outputs": [
        {
          "output_type": "stream",
          "name": "stdout",
          "text": [
            "[[19 22]\n",
            " [43 50]]\n",
            "[[1 3]\n",
            " [2 4]]\n",
            "[[-2.   1. ]\n",
            " [ 1.5 -0.5]]\n"
          ]
        }
      ]
    },
    {
      "cell_type": "code",
      "source": [
        " arr = np.array([10,20,30,40,50])\n",
        "#indexing\n",
        "print(arr[0])\n",
        "print(arr[-1])\n",
        "#Slicing\n",
        "print(arr[1:4])\n",
        "print(arr[:3])\n",
        "print(arr[::2])\n",
        "#Multi-dimensional arrays\n",
        "mat = np.array([[1,2,3],[4,5,6],[7,8,9]])\n",
        "print(mat[0,1])\n",
        "print(mat[:,2])\n",
        "\n"
      ],
      "metadata": {
        "colab": {
          "base_uri": "https://localhost:8080/"
        },
        "id": "dGGRj8zHfPY7",
        "outputId": "23437fe1-47de-43d4-d1f9-7b4f2d5f0b7c"
      },
      "execution_count": null,
      "outputs": [
        {
          "output_type": "stream",
          "name": "stdout",
          "text": [
            "10\n",
            "50\n",
            "[20 30 40]\n",
            "[10 20 30]\n",
            "[10 30 50]\n",
            "2\n",
            "[3 6 9]\n"
          ]
        }
      ]
    },
    {
      "cell_type": "code",
      "execution_count": null,
      "metadata": {
        "id": "Jp054a0zU98L",
        "colab": {
          "base_uri": "https://localhost:8080/"
        },
        "outputId": "7aa51d82-b985-4c2b-f33b-19e296982295"
      },
      "outputs": [
        {
          "output_type": "stream",
          "name": "stdout",
          "text": [
            "(4,)\n",
            "(2, 2)\n",
            "[2 4 6 8]\n",
            "[3 4 5 6]\n",
            "[2 4 6 8]\n"
          ]
        }
      ],
      "source": [
        "import numpy as np\n",
        "\n",
        "  #create arrays\n",
        "a = np.array([1,2,3,4])\n",
        "b = np.array([[1,2],[3,4]])\n",
        "#Array shape\n",
        "print(a.shape)\n",
        "print(b.shape)\n",
        "#Basic operations\n",
        "print(a*2)\n",
        "print(a+2)\n",
        "print(a+a)\n"
      ]
    },
    {
      "cell_type": "code",
      "source": [
        "# Mini project (simulate 1000 dice(1-6) rolls)\n",
        "import numpy as np\n",
        "# dice array\n",
        "b = np.array([1,2,3,4,5,6])\n",
        "a = np.random.choice(b, size=1000) # Use np.random.choice to simulate rolls\n",
        "# mean, median, std, mode\n",
        "print([np.mean(a)])\n",
        "print([np.median(a)])\n",
        "print([np.std(a)])\n",
        "# extract rolls above 4\n",
        "print([a[a>4]])\n",
        "print(np.unique(a, return_counts=True)) # Removed the extra square brackets\n",
        "# mode = np.argmax(np.bincount(a)) # This line was commented out in the user's original code, I will keep it commented out.\n",
        "# print(mode)"
      ],
      "metadata": {
        "colab": {
          "base_uri": "https://localhost:8080/"
        },
        "id": "zP45s30wm0Aa",
        "outputId": "73fa3e5c-3398-4935-cdf8-1ae52274c99a"
      },
      "execution_count": 57,
      "outputs": [
        {
          "output_type": "stream",
          "name": "stdout",
          "text": [
            "[np.float64(3.38)]\n",
            "[np.float64(3.0)]\n",
            "[np.float64(1.71802211860034)]\n",
            "[array([6, 6, 5, 6, 5, 5, 6, 6, 6, 5, 5, 6, 5, 6, 5, 5, 6, 6, 5, 5, 5, 5,\n",
            "       5, 5, 5, 6, 6, 6, 5, 5, 5, 6, 5, 5, 5, 5, 6, 6, 6, 5, 5, 6, 6, 5,\n",
            "       6, 5, 6, 5, 6, 5, 6, 5, 6, 5, 5, 6, 6, 6, 5, 5, 5, 6, 6, 6, 5, 6,\n",
            "       6, 6, 6, 6, 5, 6, 6, 6, 5, 6, 5, 6, 5, 6, 6, 5, 5, 6, 5, 5, 6, 5,\n",
            "       5, 5, 6, 6, 5, 6, 5, 5, 6, 5, 5, 6, 6, 5, 6, 5, 5, 6, 6, 5, 6, 5,\n",
            "       5, 6, 5, 6, 5, 6, 5, 6, 6, 6, 5, 5, 6, 5, 6, 5, 6, 6, 6, 6, 5, 5,\n",
            "       5, 5, 6, 6, 5, 5, 6, 5, 5, 6, 6, 5, 5, 5, 5, 5, 6, 6, 6, 5, 6, 6,\n",
            "       5, 5, 5, 6, 6, 5, 5, 5, 6, 5, 6, 6, 6, 6, 6, 6, 6, 6, 6, 5, 6, 5,\n",
            "       6, 6, 6, 6, 5, 5, 5, 6, 5, 6, 5, 5, 5, 6, 6, 6, 5, 5, 6, 6, 6, 6,\n",
            "       6, 5, 5, 5, 5, 6, 5, 6, 6, 6, 6, 6, 5, 6, 6, 5, 6, 5, 5, 5, 6, 5,\n",
            "       6, 6, 6, 5, 6, 6, 5, 5, 6, 6, 6, 5, 6, 5, 6, 6, 6, 5, 5, 6, 5, 6,\n",
            "       6, 5, 6, 5, 5, 5, 6, 5, 6, 6, 5, 6, 5, 6, 6, 6, 6, 5, 6, 6, 5, 6,\n",
            "       5, 6, 6, 5, 6, 5, 6, 6, 5, 5, 6, 6, 6, 5, 5, 6, 5, 6, 6, 5, 6, 5,\n",
            "       6, 6, 5, 5, 5, 5, 6, 5, 5, 6, 5, 5, 5, 5, 6, 5, 5, 6])]\n",
            "(array([1, 2, 3, 4, 5, 6]), array([185, 183, 161, 167, 146, 158]))\n"
          ]
        }
      ]
    },
    {
      "cell_type": "code",
      "source": [],
      "metadata": {
        "id": "IA0z2Izrxniy"
      },
      "execution_count": null,
      "outputs": []
    },
    {
      "cell_type": "code",
      "metadata": {
        "colab": {
          "base_uri": "https://localhost:8080/"
        },
        "id": "d16dd1b5",
        "outputId": "0d744e5e-ad2f-4fdd-f202-bc06f5c53c32"
      },
      "source": [
        "# Mini project (simulate 1000 dice(1-6) rolls)\n",
        "import numpy as np\n",
        "# dice array\n",
        "b = np.array([1,2,3,4,5,6])\n",
        "a = np.random.choice(b, size=1000) # Use np.random.choice to simulate rolls\n",
        "# mean, median, std, mode\n",
        "print(f\"Mean: {np.mean(a)}\")\n",
        "print(f\"Median: {np.median(a)}\")\n",
        "print(f\"Standard deviation: {np.std(a)}\")\n",
        "# extract rolls above 4\n",
        "print(f\"Rolls above 4: {a[a>4]}\")\n",
        "print(f\"Unique values and counts: {np.unique(a, return_counts=True)}\")\n",
        "mode = np.argmax(np.bincount(a))\n",
        "print(f\"Mode: {mode}\")"
      ],
      "execution_count": 58,
      "outputs": [
        {
          "output_type": "stream",
          "name": "stdout",
          "text": [
            "Mean: 3.41\n",
            "Median: 3.0\n",
            "Standard deviation: 1.671496335622666\n",
            "Rolls above 4: [6 5 6 6 5 6 6 6 6 5 5 5 5 5 6 5 6 6 5 5 6 5 5 5 5 5 5 6 6 5 5 5 6 6 6 6 5\n",
            " 5 5 6 5 5 5 6 6 6 5 5 6 6 6 5 5 5 5 5 6 5 5 5 6 5 6 6 6 6 6 5 6 5 6 5 6 5\n",
            " 6 6 5 6 6 6 6 5 5 6 5 5 5 5 5 6 5 6 6 5 5 6 6 5 6 5 6 5 6 6 6 5 5 6 6 6 6\n",
            " 6 5 6 5 6 6 5 6 5 5 6 6 5 6 6 5 5 5 5 5 5 6 5 5 6 5 6 6 6 5 6 6 6 5 5 5 6\n",
            " 5 5 5 5 5 5 5 5 6 5 6 6 5 5 6 6 5 5 5 6 5 6 6 6 6 5 5 5 6 6 5 5 6 6 5 6 5\n",
            " 6 5 6 6 6 5 5 5 6 6 5 6 6 5 6 6 6 5 6 5 6 5 5 6 5 6 6 6 5 6 6 6 6 5 6 6 6\n",
            " 5 5 5 5 6 6 6 6 6 6 5 5 5 6 5 5 6 6 6 5 6 6 5 5 6 5 6 5 6 5 5 5 5 5 6 5 6\n",
            " 6 5 5 5 5 5 5 5 6 5 6 6 5 6 5 5 6 5 5 6 6 5 6 6 5 5 5 5 6 6 6 5 5 5 5 5 5\n",
            " 5 6 6 6 6 5 5 5]\n",
            "Unique values and counts: (array([1, 2, 3, 4, 5, 6]), array([165, 185, 175, 171, 158, 146]))\n",
            "Mode: 2\n"
          ]
        }
      ]
    }
  ]
}